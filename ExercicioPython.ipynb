{
  "nbformat": 4,
  "nbformat_minor": 0,
  "metadata": {
    "colab": {
      "provenance": [],
      "authorship_tag": "ABX9TyOuocar+DWyNqzDvLlBSC1L",
      "include_colab_link": true
    },
    "kernelspec": {
      "name": "python3",
      "display_name": "Python 3"
    },
    "language_info": {
      "name": "python"
    }
  },
  "cells": [
    {
      "cell_type": "markdown",
      "metadata": {
        "id": "view-in-github",
        "colab_type": "text"
      },
      "source": [
        "<a href=\"https://colab.research.google.com/github/MariaNatiele/Python_ML_Colab-Analise-dados/blob/main/ExercicioPython.ipynb\" target=\"_parent\"><img src=\"https://colab.research.google.com/assets/colab-badge.svg\" alt=\"Open In Colab\"/></a>"
      ]
    },
    {
      "cell_type": "code",
      "execution_count": null,
      "metadata": {
        "id": "q65BDhN8z64v"
      },
      "outputs": [],
      "source": [
        "#Faça um Programa que leia um vetor de 5 números inteiros e mostre-os.\n",
        "#Faça um Programa que leia um vetor de 10 números reais e mostre-os na ordem inversa."
      ]
    },
    {
      "cell_type": "code",
      "source": [
        "valor = [ 1,2,6,9,8,7,10,25,36,990]\n",
        "\n",
        "for numero in valor:\n",
        "  print(numero)"
      ],
      "metadata": {
        "colab": {
          "base_uri": "https://localhost:8080/"
        },
        "id": "2pY2DNg3c-NO",
        "outputId": "4b66a955-5ccb-4c8b-be63-c134bb0842de"
      },
      "execution_count": null,
      "outputs": [
        {
          "output_type": "stream",
          "name": "stdout",
          "text": [
            "1\n",
            "2\n",
            "6\n",
            "9\n",
            "8\n",
            "7\n",
            "10\n",
            "25\n",
            "36\n",
            "990\n"
          ]
        }
      ]
    },
    {
      "cell_type": "code",
      "source": [
        "vetor2 = [1.2,15.3,10.5,33.5,20.4,200.05]\n"
      ],
      "metadata": {
        "id": "z37jfLkTdRwg"
      },
      "execution_count": null,
      "outputs": []
    },
    {
      "cell_type": "code",
      "source": [
        "vetor2.append(15)\n"
      ],
      "metadata": {
        "id": "ZcYpjy5uedIC"
      },
      "execution_count": null,
      "outputs": []
    },
    {
      "cell_type": "code",
      "source": [
        "vetor2.count(15)"
      ],
      "metadata": {
        "colab": {
          "base_uri": "https://localhost:8080/"
        },
        "id": "30Wf3vcLeusm",
        "outputId": "cba75153-e4ff-4bc6-cd6a-aeef6ab06f21"
      },
      "execution_count": null,
      "outputs": [
        {
          "output_type": "execute_result",
          "data": {
            "text/plain": [
              "3"
            ]
          },
          "metadata": {},
          "execution_count": 24
        }
      ]
    },
    {
      "cell_type": "code",
      "source": [
        "vetor2.sort()\n",
        "vetor2"
      ],
      "metadata": {
        "colab": {
          "base_uri": "https://localhost:8080/"
        },
        "id": "bjNyyR2Ce1zV",
        "outputId": "33ccad81-fef5-463d-f1bd-56ef453c55f5"
      },
      "execution_count": null,
      "outputs": [
        {
          "output_type": "execute_result",
          "data": {
            "text/plain": [
              "[0, 1.2, 10.5, 15, 15, 15, 15.3, 20.4, 33.5, 200.05]"
            ]
          },
          "metadata": {},
          "execution_count": 26
        }
      ]
    },
    {
      "cell_type": "code",
      "source": [
        "vetor2.insert(0,36)\n",
        "vetor2"
      ],
      "metadata": {
        "colab": {
          "base_uri": "https://localhost:8080/"
        },
        "id": "fFtaOt02e7hu",
        "outputId": "e5cd83bc-2582-422c-ec32-bb5ae48de3ac"
      },
      "execution_count": null,
      "outputs": [
        {
          "output_type": "execute_result",
          "data": {
            "text/plain": [
              "[36, 0, 36, 36, 1.2, 10.5, 36, 15, 15, 15, 15.3, 20.4, 33.5, 200.05]"
            ]
          },
          "metadata": {},
          "execution_count": 31
        }
      ]
    },
    {
      "cell_type": "code",
      "source": [],
      "metadata": {
        "id": "2Gwhi-BlfNif"
      },
      "execution_count": null,
      "outputs": []
    },
    {
      "cell_type": "code",
      "source": [
        "novo_vetor = vetor2.copy()\n"
      ],
      "metadata": {
        "colab": {
          "base_uri": "https://localhost:8080/"
        },
        "id": "HwK2TFGlelfa",
        "outputId": "fd6c71f8-e90a-4be6-ba72-888181440e0c"
      },
      "execution_count": null,
      "outputs": [
        {
          "output_type": "execute_result",
          "data": {
            "text/plain": [
              "[]"
            ]
          },
          "metadata": {},
          "execution_count": 46
        }
      ]
    },
    {
      "cell_type": "code",
      "source": [],
      "metadata": {
        "id": "BeRxzgAjfxrE"
      },
      "execution_count": null,
      "outputs": []
    },
    {
      "cell_type": "markdown",
      "source": [
        "Faça um Programa que leia 20 números inteiros e armazene-os num vetor.\n",
        " Armazene os números pares no vetor PAR e os números IMPARES no vetor impar. Imprima os três vetores."
      ],
      "metadata": {
        "id": "l3ya9I-cgKv8"
      }
    },
    {
      "cell_type": "code",
      "source": [
        "vet = {\n",
        "    'Maria':0,\n",
        "    'Ana':1\n",
        "}\n",
        "type(vet)\n"
      ],
      "metadata": {
        "colab": {
          "base_uri": "https://localhost:8080/"
        },
        "id": "Pqttu5eEgGmx",
        "outputId": "d23e7625-19a2-4df1-b617-ad0648a9011a"
      },
      "execution_count": null,
      "outputs": [
        {
          "output_type": "execute_result",
          "data": {
            "text/plain": [
              "dict"
            ]
          },
          "metadata": {},
          "execution_count": 109
        }
      ]
    },
    {
      "cell_type": "code",
      "source": [
        "for x  in vet:\n",
        "  print(x)\n"
      ],
      "metadata": {
        "colab": {
          "base_uri": "https://localhost:8080/"
        },
        "id": "ord5JozdmOwU",
        "outputId": "632cbfcf-c3d8-45c1-bfa1-34af4436a031"
      },
      "execution_count": null,
      "outputs": [
        {
          "output_type": "stream",
          "name": "stdout",
          "text": [
            "Maria\n",
            "Ana\n"
          ]
        }
      ]
    },
    {
      "cell_type": "code",
      "source": [
        "5 %2 == 0"
      ],
      "metadata": {
        "colab": {
          "base_uri": "https://localhost:8080/"
        },
        "id": "CwbHL8hxheKV",
        "outputId": "e5958aa8-2854-40f7-efbb-a605e311ad1e"
      },
      "execution_count": null,
      "outputs": [
        {
          "output_type": "execute_result",
          "data": {
            "text/plain": [
              "False"
            ]
          },
          "metadata": {},
          "execution_count": 93
        }
      ]
    }
  ]
}