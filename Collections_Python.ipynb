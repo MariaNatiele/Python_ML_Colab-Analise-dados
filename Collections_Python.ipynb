{
  "nbformat": 4,
  "nbformat_minor": 0,
  "metadata": {
    "colab": {
      "provenance": [],
      "authorship_tag": "ABX9TyMGLh5nMuARK2RwH0PgXc4a",
      "include_colab_link": true
    },
    "kernelspec": {
      "name": "python3",
      "display_name": "Python 3"
    },
    "language_info": {
      "name": "python"
    }
  },
  "cells": [
    {
      "cell_type": "markdown",
      "metadata": {
        "id": "view-in-github",
        "colab_type": "text"
      },
      "source": [
        "<a href=\"https://colab.research.google.com/github/MariaNatiele/Python_ML_Colab-Analise-dados/blob/main/Collections_Python.ipynb\" target=\"_parent\"><img src=\"https://colab.research.google.com/assets/colab-badge.svg\" alt=\"Open In Colab\"/></a>"
      ]
    },
    {
      "cell_type": "code",
      "execution_count": null,
      "metadata": {
        "colab": {
          "base_uri": "https://localhost:8080/"
        },
        "id": "DaDqLJ0KjLoG",
        "outputId": "19d5bd41-9c12-4309-8d70-45efce0a8c69"
      },
      "outputs": [
        {
          "output_type": "stream",
          "name": "stdout",
          "text": [
            "[15, 10, 27, 80, 25]\n",
            "44\n",
            "10\n",
            "27\n",
            "80\n",
            "25\n",
            "False\n",
            "[10, 12, 15, 5, 20]\n",
            "novos numeros [45, 11, 28, 81, 26]\n",
            "[44, 27, 80, 25]\n",
            "[15, 10, 9, 25, 27, 3]\n"
          ]
        }
      ],
      "source": [
        "numeros = [15,10,27,80]\n",
        "numeros.append(25)\n",
        "print(numeros)\n",
        "numeros.remove(15)\n",
        "numeros\n",
        "\n",
        "numeros.insert(0,44)\n",
        "numeros\n",
        "\n",
        "for numero in numeros:\n",
        "  print(numero)\n",
        "\n",
        "\n",
        "print(15 in numeros)\n",
        "   \n",
        "\n",
        "numero = [10,12,15]\n",
        "numero.extend([5,20])\n",
        "print(numero)\n",
        "\n",
        "numero_a = []\n",
        "for numero in numeros:\n",
        "   numero_a.append(numero + 1)\n",
        "numero_a\n",
        "\n",
        "\n",
        "novo_numeros = [(numero +1) for numero in numeros]\n",
        "print(\"novos numeros\",novo_numeros)\n",
        "\n",
        "print([(numero) for numero in numeros if numero > 22])\n",
        "\n",
        "def proximo_ano(numero):\n",
        "  return numero + 1\n",
        "[(proximo_ano(numero)) for numero in numeros if numero > 20]\n",
        "\n",
        "def faz_processamento_visualizacao(lista):\n",
        "   print(idades)\n",
        "   idades.append(10)\n",
        "\n",
        "idades = [15,10,9,25,27,3]\n",
        "faz_processamento_visualizacao(numero) \n",
        "idades\n",
        "\n",
        "def faz_processamento_visualizacao(lista = None):\n",
        "    if lista == None:\n",
        "        lista = list()\n",
        "    print(len(lista))\n",
        "    print(lista)\n",
        "    lista.append(10)"
      ]
    },
    {
      "cell_type": "markdown",
      "source": [
        "Obejetos Próprios"
      ],
      "metadata": {
        "id": "33rA-kyd4emU"
      }
    },
    {
      "cell_type": "code",
      "source": [
        "class ContaCorrente:\n",
        "  def __init__(self, codigo):\n",
        "    self.codigo = codigo\n",
        "    self.saldo = 0\n",
        "\n",
        "  def deposita(self, valor):\n",
        "    self.saldo += valor   \n",
        "\n",
        "  def __str__(self):\n",
        "    return \"[codigo {} saldo {}]\".format(self.codigo,self.saldo)  \n",
        "\n",
        "conta_da_nathy = ContaCorrente(25) \n",
        "conta_da_nathy.deposita(360)\n",
        "print(conta_da_nathy)\n",
        "\n",
        "conta_de_mille = ContaCorrente(36)\n",
        "conta_de_mille.deposita(1500)\n",
        "print(conta_de_mille)\n",
        "\n",
        "contas = [conta_da_nathy, conta_de_mille]\n",
        "for mostra in contas:\n",
        "  print(mostra)\n",
        "\n",
        "\n",
        "def deposita_para_todas(contas):\n",
        "  for conta in contas:\n",
        "    conta.deposita(100)\n",
        "\n",
        "contas = [conta_da_nathy, conta_de_mille]\n",
        "print(contas[0], contas[1])\n",
        "deposita_para_todas(contas)\n",
        "print(contas[0], contas[1])\n",
        "nathy = ('Nathy',27, 1994)\n",
        "ana = ('Ana',25, 1997)\n",
        "usuarios = [nathy, ana]\n",
        "usuarios.append(('Mille',21,2000))\n",
        "usuarios\n",
        "\n",
        "conta = (conta_da_nathy, conta_de_mille)\n",
        "conta.depositar(150)\n"
      ],
      "metadata": {
        "id": "QWubVgrp8zKl",
        "colab": {
          "base_uri": "https://localhost:8080/",
          "height": 304
        },
        "outputId": "a0adf267-4b26-47ac-e168-e2c71680e01b"
      },
      "execution_count": null,
      "outputs": [
        {
          "output_type": "stream",
          "name": "stdout",
          "text": [
            "[codigo 25 saldo 360]\n",
            "[codigo 36 saldo 1500]\n",
            "[codigo 25 saldo 360]\n",
            "[codigo 36 saldo 1500]\n",
            "[codigo 25 saldo 360] [codigo 36 saldo 1500]\n",
            "[codigo 25 saldo 460] [codigo 36 saldo 1600]\n"
          ]
        },
        {
          "output_type": "error",
          "ename": "AttributeError",
          "evalue": "ignored",
          "traceback": [
            "\u001b[0;31m---------------------------------------------------------------------------\u001b[0m",
            "\u001b[0;31mAttributeError\u001b[0m                            Traceback (most recent call last)",
            "\u001b[0;32m<ipython-input-36-2ad7cc9c09d0>\u001b[0m in \u001b[0;36m<module>\u001b[0;34m()\u001b[0m\n\u001b[1;32m     38\u001b[0m \u001b[0;34m\u001b[0m\u001b[0m\n\u001b[1;32m     39\u001b[0m \u001b[0mconta\u001b[0m \u001b[0;34m=\u001b[0m \u001b[0;34m(\u001b[0m\u001b[0mconta_da_nathy\u001b[0m\u001b[0;34m,\u001b[0m \u001b[0mconta_de_mille\u001b[0m\u001b[0;34m)\u001b[0m\u001b[0;34m\u001b[0m\u001b[0;34m\u001b[0m\u001b[0m\n\u001b[0;32m---> 40\u001b[0;31m \u001b[0mconta\u001b[0m\u001b[0;34m.\u001b[0m\u001b[0mdepositar\u001b[0m\u001b[0;34m(\u001b[0m\u001b[0;36m150\u001b[0m\u001b[0;34m)\u001b[0m\u001b[0;34m\u001b[0m\u001b[0;34m\u001b[0m\u001b[0m\n\u001b[0m",
            "\u001b[0;31mAttributeError\u001b[0m: 'tuple' object has no attribute 'depositar'"
          ]
        }
      ]
    },
    {
      "cell_type": "markdown",
      "source": [
        "**Herança e Polimorfismo**"
      ],
      "metadata": {
        "id": "qrnx5hWAYR8U"
      }
    },
    {
      "cell_type": "code",
      "source": [
        "class Conta:\n",
        "  def __init__(self, codigo):\n",
        "    self._codigo = codigo\n",
        "    self._saldo = 0\n",
        "\n",
        "  def deposita(self, valor):\n",
        "    self._saldo += valor   \n",
        "\n",
        "  def __str__(self):\n",
        "    return \"[codigo {} saldo {}]\".format(self._codigo,self._saldo)  \n"
      ],
      "metadata": {
        "id": "poATVhKeYaBL"
      },
      "execution_count": null,
      "outputs": []
    }
  ]
}