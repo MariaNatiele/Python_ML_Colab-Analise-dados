{
  "nbformat": 4,
  "nbformat_minor": 0,
  "metadata": {
    "colab": {
      "provenance": [],
      "authorship_tag": "ABX9TyPac74BH9pJw+4nLdIUq7+d",
      "include_colab_link": true
    },
    "kernelspec": {
      "name": "python3",
      "display_name": "Python 3"
    },
    "language_info": {
      "name": "python"
    }
  },
  "cells": [
    {
      "cell_type": "markdown",
      "metadata": {
        "id": "view-in-github",
        "colab_type": "text"
      },
      "source": [
        "<a href=\"https://colab.research.google.com/github/MariaNatiele/Python_ML_Colab-Analise-dados/blob/main/C%C3%B3pia_de_PythonCollections_py.ipynb\" target=\"_parent\"><img src=\"https://colab.research.google.com/assets/colab-badge.svg\" alt=\"Open In Colab\"/></a>"
      ]
    },
    {
      "cell_type": "code",
      "execution_count": null,
      "metadata": {
        "colab": {
          "base_uri": "https://localhost:8080/"
        },
        "id": "_AExshQ76-MP",
        "outputId": "bc116ece-24b0-4d3f-af8e-17112946099b"
      },
      "outputs": [
        {
          "output_type": "execute_result",
          "data": {
            "text/plain": [
              "[25, 18, 3, 7, 10]"
            ]
          },
          "metadata": {},
          "execution_count": 3
        }
      ],
      "source": [
        "ususariosHtml = [15,25,12,5,27]\n",
        "ususariosRedes = [25,18,3,7,10]\n",
        "\n",
        "assistiram = []\n",
        "assistiram.extend(ususariosRedes)\n",
        "assistiram\n"
      ]
    },
    {
      "cell_type": "code",
      "source": [
        "ususariosRedes.copy()\n",
        "assistiram.extend(ususariosHtml)\n",
        "assistiram "
      ],
      "metadata": {
        "colab": {
          "base_uri": "https://localhost:8080/"
        },
        "id": "gifd0nRq80O9",
        "outputId": "3fae4781-b02f-41bf-ecb3-731fb61fb448"
      },
      "execution_count": null,
      "outputs": [
        {
          "output_type": "execute_result",
          "data": {
            "text/plain": [
              "[25, 18, 3, 7, 10, 15, 25, 12, 5, 27]"
            ]
          },
          "metadata": {},
          "execution_count": 4
        }
      ]
    },
    {
      "cell_type": "code",
      "source": [
        "len(assistiram)"
      ],
      "metadata": {
        "colab": {
          "base_uri": "https://localhost:8080/"
        },
        "id": "RGLEXDAF9VP3",
        "outputId": "07d93401-c449-48cb-84f3-af64bfda9e7d"
      },
      "execution_count": null,
      "outputs": [
        {
          "output_type": "execute_result",
          "data": {
            "text/plain": [
              "10"
            ]
          },
          "metadata": {},
          "execution_count": 5
        }
      ]
    },
    {
      "cell_type": "code",
      "source": [
        "#conjuntos(set) não repete os elementos\n",
        "set(assistiram)"
      ],
      "metadata": {
        "colab": {
          "base_uri": "https://localhost:8080/"
        },
        "id": "2A0AC4TP9aRZ",
        "outputId": "5921cc9d-cc22-4f08-c9ad-835a52cb71fe"
      },
      "execution_count": null,
      "outputs": [
        {
          "output_type": "execute_result",
          "data": {
            "text/plain": [
              "{3, 5, 7, 10, 12, 15, 18, 25, 27}"
            ]
          },
          "metadata": {},
          "execution_count": 6
        }
      ]
    },
    {
      "cell_type": "code",
      "source": [
        "type({1,2,5,6})"
      ],
      "metadata": {
        "colab": {
          "base_uri": "https://localhost:8080/"
        },
        "id": "s90fpaGN9em3",
        "outputId": "b3e7302c-aa00-4d85-cede-f8256e8c767d"
      },
      "execution_count": null,
      "outputs": [
        {
          "output_type": "execute_result",
          "data": {
            "text/plain": [
              "set"
            ]
          },
          "metadata": {},
          "execution_count": 7
        }
      ]
    },
    {
      "cell_type": "code",
      "source": [
        "for usuarios in set(assistiram):\n",
        " print(usuarios)"
      ],
      "metadata": {
        "colab": {
          "base_uri": "https://localhost:8080/"
        },
        "id": "zssIJP5H-k50",
        "outputId": "e8e6d8ce-391a-42b0-a8e4-c585a5e26a5f"
      },
      "execution_count": null,
      "outputs": [
        {
          "output_type": "stream",
          "name": "stdout",
          "text": [
            "3\n",
            "5\n",
            "7\n",
            "10\n",
            "12\n",
            "15\n",
            "18\n",
            "25\n",
            "27\n"
          ]
        }
      ]
    },
    {
      "cell_type": "code",
      "source": [
        "ususariosHtml and ususariosRedes"
      ],
      "metadata": {
        "colab": {
          "base_uri": "https://localhost:8080/"
        },
        "id": "V91yfhG0_2yD",
        "outputId": "311a7192-3be6-402a-f36c-ce145d1bbd82"
      },
      "execution_count": null,
      "outputs": [
        {
          "output_type": "execute_result",
          "data": {
            "text/plain": [
              "[25, 18, 3, 7, 10]"
            ]
          },
          "metadata": {},
          "execution_count": 9
        }
      ]
    },
    {
      "cell_type": "code",
      "source": [
        "ususariosHtml or ususariosRedes"
      ],
      "metadata": {
        "colab": {
          "base_uri": "https://localhost:8080/"
        },
        "id": "hZ0AYoHvA05h",
        "outputId": "8a60647f-548f-4de0-bee9-fb1559a1bf60"
      },
      "execution_count": null,
      "outputs": [
        {
          "output_type": "execute_result",
          "data": {
            "text/plain": [
              "[15, 25, 12, 5, 27]"
            ]
          },
          "metadata": {},
          "execution_count": 10
        }
      ]
    },
    {
      "cell_type": "code",
      "source": [
        "#conjunto não repete elemento e usa o add para adicionar\n",
        "usuario = {1,2,3,5,6,5}\n",
        "len(usuario)"
      ],
      "metadata": {
        "colab": {
          "base_uri": "https://localhost:8080/"
        },
        "id": "VhyZ-mpc8gNo",
        "outputId": "d996c5bd-871f-4376-9bd7-fbb279466fb7"
      },
      "execution_count": null,
      "outputs": [
        {
          "output_type": "execute_result",
          "data": {
            "text/plain": [
              "5"
            ]
          },
          "metadata": {},
          "execution_count": 11
        }
      ]
    },
    {
      "cell_type": "code",
      "source": [
        "usuario.add(23)\n",
        "len(usuario)"
      ],
      "metadata": {
        "colab": {
          "base_uri": "https://localhost:8080/"
        },
        "id": "rc7YdR8E87Ao",
        "outputId": "3f0ac809-21e9-423f-cee5-f868464a9a0d"
      },
      "execution_count": null,
      "outputs": [
        {
          "output_type": "execute_result",
          "data": {
            "text/plain": [
              "6"
            ]
          },
          "metadata": {},
          "execution_count": 12
        }
      ]
    },
    {
      "cell_type": "code",
      "source": [
        "#congela um conjunto, não add\n",
        "usuario = frozenset(usuario)\n",
        "usuario"
      ],
      "metadata": {
        "colab": {
          "base_uri": "https://localhost:8080/"
        },
        "id": "dKa06adQ9Owx",
        "outputId": "b89f6f6d-73b9-427b-86a8-248710e40134"
      },
      "execution_count": null,
      "outputs": [
        {
          "output_type": "execute_result",
          "data": {
            "text/plain": [
              "frozenset({1, 2, 3, 5, 6, 23})"
            ]
          },
          "metadata": {},
          "execution_count": 13
        }
      ]
    },
    {
      "cell_type": "code",
      "source": [],
      "metadata": {
        "id": "xmm8dpzl-SBM"
      },
      "execution_count": null,
      "outputs": []
    },
    {
      "cell_type": "code",
      "source": [
        "type(usuarios)"
      ],
      "metadata": {
        "id": "OEmLZdKg9O-h",
        "colab": {
          "base_uri": "https://localhost:8080/"
        },
        "outputId": "f9c648ca-ff8b-489f-d7e6-8843be60329c"
      },
      "execution_count": null,
      "outputs": [
        {
          "output_type": "execute_result",
          "data": {
            "text/plain": [
              "int"
            ]
          },
          "metadata": {},
          "execution_count": 14
        }
      ]
    },
    {
      "cell_type": "markdown",
      "source": [
        "Dicionario(Mapa)"
      ],
      "metadata": {
        "id": "PIsPFF3ldkTX"
      }
    },
    {
      "cell_type": "code",
      "source": [
        "aparicoes = {\n",
        "    'anamaria':1,\n",
        "    'joana' : 1, \n",
        "    'maria' :0,\n",
        "    'vindo' :1\n",
        "}"
      ],
      "metadata": {
        "id": "0d7IItbAdjhw"
      },
      "execution_count": null,
      "outputs": []
    },
    {
      "cell_type": "code",
      "source": [
        "aparicoes"
      ],
      "metadata": {
        "colab": {
          "base_uri": "https://localhost:8080/"
        },
        "id": "NgiT-sqtd8XV",
        "outputId": "cbeca39e-e62c-483c-f5a0-968fc22ade0f"
      },
      "execution_count": null,
      "outputs": [
        {
          "output_type": "execute_result",
          "data": {
            "text/plain": [
              "{'anamaria': 1, 'joana': 1, 'maria': 0, 'vindo': 1}"
            ]
          },
          "metadata": {},
          "execution_count": 16
        }
      ]
    },
    {
      "cell_type": "code",
      "source": [
        "#acessando pela chave\n",
        "aparicoes['anamaria']"
      ],
      "metadata": {
        "colab": {
          "base_uri": "https://localhost:8080/"
        },
        "id": "qnJCqt7heN9K",
        "outputId": "83c0051a-9c87-4b95-c6a6-4274c004fd4d"
      },
      "execution_count": null,
      "outputs": [
        {
          "output_type": "execute_result",
          "data": {
            "text/plain": [
              "1"
            ]
          },
          "metadata": {},
          "execution_count": 17
        }
      ]
    },
    {
      "cell_type": "code",
      "source": [
        "aparicoes.get('maria',0)"
      ],
      "metadata": {
        "colab": {
          "base_uri": "https://localhost:8080/"
        },
        "id": "FlnKGuroed4q",
        "outputId": "7f6f93d4-3a40-4d33-ea82-6b79eb25ff71"
      },
      "execution_count": null,
      "outputs": [
        {
          "output_type": "execute_result",
          "data": {
            "text/plain": [
              "0"
            ]
          },
          "metadata": {},
          "execution_count": 18
        }
      ]
    },
    {
      "cell_type": "code",
      "source": [
        "#criando dicionario pela chave \n",
        "dicionario = dict(anamaria = 1, michele = 2,milena = 3,marianatiele = 4)\n",
        "dicionario    \n"
      ],
      "metadata": {
        "colab": {
          "base_uri": "https://localhost:8080/"
        },
        "id": "dPdtFcdQevgd",
        "outputId": "9284e0db-5e63-4bb1-e639-093c02f0f312"
      },
      "execution_count": null,
      "outputs": [
        {
          "output_type": "execute_result",
          "data": {
            "text/plain": [
              "{'anamaria': 1, 'marianatiele': 4, 'michele': 2, 'milena': 3}"
            ]
          },
          "metadata": {},
          "execution_count": 21
        }
      ]
    },
    {
      "cell_type": "code",
      "source": [],
      "metadata": {
        "id": "JiEGxNL4fP9k"
      },
      "execution_count": null,
      "outputs": []
    }
  ]
}